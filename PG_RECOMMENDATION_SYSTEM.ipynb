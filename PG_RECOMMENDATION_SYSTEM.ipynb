{
  "cells": [
    {
      "cell_type": "markdown",
      "id": "b2419a81",
      "metadata": {
        "id": "b2419a81"
      },
      "source": [
        "# PG/HOSTEL RECOMMENDATION"
      ]
    },
    {
      "cell_type": "markdown",
      "id": "b83ee0e3",
      "metadata": {
        "id": "b83ee0e3"
      },
      "source": [
        "## 1. IMPORT NECESSARY LIBRARIES AND DATA:"
      ]
    },
    {
      "cell_type": "code",
      "execution_count": null,
      "id": "4e0e0763",
      "metadata": {
        "id": "4e0e0763"
      },
      "outputs": [],
      "source": [
        "import pandas as pd\n",
        "import numpy as np\n",
        "import seaborn as sns\n",
        "\n",
        "import warnings\n",
        "warnings.filterwarnings('ignore')"
      ]
    },
    {
      "cell_type": "code",
      "execution_count": null,
      "id": "81101d42",
      "metadata": {
        "id": "81101d42",
        "outputId": "d14e60a3-43b4-453d-be51-78380b451fc4"
      },
      "outputs": [
        {
          "data": {
            "text/html": [
              "<div>\n",
              "<style scoped>\n",
              "    .dataframe tbody tr th:only-of-type {\n",
              "        vertical-align: middle;\n",
              "    }\n",
              "\n",
              "    .dataframe tbody tr th {\n",
              "        vertical-align: top;\n",
              "    }\n",
              "\n",
              "    .dataframe thead th {\n",
              "        text-align: right;\n",
              "    }\n",
              "</style>\n",
              "<table border=\"1\" class=\"dataframe\">\n",
              "  <thead>\n",
              "    <tr style=\"text-align: right;\">\n",
              "      <th></th>\n",
              "      <th>Timestamp</th>\n",
              "      <th>Name (Optional)</th>\n",
              "      <th>Age</th>\n",
              "      <th>Gender</th>\n",
              "      <th>Place hailing from</th>\n",
              "      <th>Name of the Hostel</th>\n",
              "      <th>Category</th>\n",
              "      <th>Type</th>\n",
              "      <th>Distance from College:</th>\n",
              "      <th>Location</th>\n",
              "      <th>...</th>\n",
              "      <th>Appliances available</th>\n",
              "      <th>Appliances allowed</th>\n",
              "      <th>Rate the atmosphere around the hostel:</th>\n",
              "      <th>On a scale of 1 to 5, how strict is the hostel/PG</th>\n",
              "      <th>On a scale of 1 to 5, how do you rate the food quality</th>\n",
              "      <th>On a scale of 1 to 5, how do you rate the hostel cleanliness</th>\n",
              "      <th>On a scale of 1 to 5, select the overall rating</th>\n",
              "      <th>Comments/Remarks/Suggestions related to hostel/PG</th>\n",
              "      <th>Does the hostel/PG provide laundry facilities?</th>\n",
              "      <th>Is the room well ventilated</th>\n",
              "    </tr>\n",
              "  </thead>\n",
              "  <tbody>\n",
              "    <tr>\n",
              "      <th>0</th>\n",
              "      <td>01/04/2023 22:25:20</td>\n",
              "      <td>Shebin</td>\n",
              "      <td>21</td>\n",
              "      <td>Male</td>\n",
              "      <td>Kerala</td>\n",
              "      <td>KE Hall</td>\n",
              "      <td>Boys</td>\n",
              "      <td>Hostels run by Christian missionaries</td>\n",
              "      <td>Less than 500 ms</td>\n",
              "      <td>CHRIST UNIVERSITY</td>\n",
              "      <td>...</td>\n",
              "      <td>Washing machine, Water heater</td>\n",
              "      <td>Iron box, Kettle, Air frier, Induction Cooktop</td>\n",
              "      <td>4</td>\n",
              "      <td>4</td>\n",
              "      <td>3.0</td>\n",
              "      <td>5</td>\n",
              "      <td>5</td>\n",
              "      <td>Library access is very convenient.</td>\n",
              "      <td>Yes</td>\n",
              "      <td>Yes</td>\n",
              "    </tr>\n",
              "    <tr>\n",
              "      <th>1</th>\n",
              "      <td>01/04/2023 22:26:40</td>\n",
              "      <td>Arya</td>\n",
              "      <td>22</td>\n",
              "      <td>Female</td>\n",
              "      <td>Kerala</td>\n",
              "      <td>Augustine Nivas</td>\n",
              "      <td>Girls</td>\n",
              "      <td>Hostels run by Christian missionaries</td>\n",
              "      <td>500 ms to 1 km</td>\n",
              "      <td>Kaveri Layout</td>\n",
              "      <td>...</td>\n",
              "      <td>Washing machine, Water heater</td>\n",
              "      <td>Iron box, Kettle, Air frier, Hair drier/Straig...</td>\n",
              "      <td>5</td>\n",
              "      <td>3</td>\n",
              "      <td>3.0</td>\n",
              "      <td>4</td>\n",
              "      <td>4</td>\n",
              "      <td>NaN</td>\n",
              "      <td>No</td>\n",
              "      <td>Yes</td>\n",
              "    </tr>\n",
              "    <tr>\n",
              "      <th>2</th>\n",
              "      <td>01/04/2023 22:26:43</td>\n",
              "      <td>Anandhalakshmi</td>\n",
              "      <td>22</td>\n",
              "      <td>Female</td>\n",
              "      <td>Kerala</td>\n",
              "      <td>Augustine Nivas</td>\n",
              "      <td>Girls</td>\n",
              "      <td>Hostels run by Christian missionaries</td>\n",
              "      <td>500 ms to 1 km</td>\n",
              "      <td>Kaveri layout</td>\n",
              "      <td>...</td>\n",
              "      <td>Washing machine, Water heater</td>\n",
              "      <td>Iron box, Kettle, Air frier, Hair drier/Straig...</td>\n",
              "      <td>5</td>\n",
              "      <td>3</td>\n",
              "      <td>3.0</td>\n",
              "      <td>4</td>\n",
              "      <td>4</td>\n",
              "      <td>NaN</td>\n",
              "      <td>No</td>\n",
              "      <td>Yes</td>\n",
              "    </tr>\n",
              "    <tr>\n",
              "      <th>3</th>\n",
              "      <td>01/04/2023 22:53:33</td>\n",
              "      <td>Nidin</td>\n",
              "      <td>21</td>\n",
              "      <td>Male</td>\n",
              "      <td>Tamil Nadu</td>\n",
              "      <td>KE Hall</td>\n",
              "      <td>Boys</td>\n",
              "      <td>Normal Hostels</td>\n",
              "      <td>Less than 500 ms</td>\n",
              "      <td>Inside Christ University</td>\n",
              "      <td>...</td>\n",
              "      <td>Washing machine, Induction cooktop, Water heater</td>\n",
              "      <td>Iron box, Kettle</td>\n",
              "      <td>4</td>\n",
              "      <td>4</td>\n",
              "      <td>3.0</td>\n",
              "      <td>4</td>\n",
              "      <td>4</td>\n",
              "      <td>NaN</td>\n",
              "      <td>Yes</td>\n",
              "      <td>Yes</td>\n",
              "    </tr>\n",
              "    <tr>\n",
              "      <th>4</th>\n",
              "      <td>01/04/2023 23:05:14</td>\n",
              "      <td>Rishav Laloo</td>\n",
              "      <td>23</td>\n",
              "      <td>Male</td>\n",
              "      <td>Meghalaya</td>\n",
              "      <td>KE Hall</td>\n",
              "      <td>Boys</td>\n",
              "      <td>Hostels run by Christian missionaries</td>\n",
              "      <td>Less than 500 ms</td>\n",
              "      <td>Christ University</td>\n",
              "      <td>...</td>\n",
              "      <td>Washing machine, Induction cooktop, Water heater</td>\n",
              "      <td>Iron box, Kettle</td>\n",
              "      <td>3</td>\n",
              "      <td>5</td>\n",
              "      <td>NaN</td>\n",
              "      <td>5</td>\n",
              "      <td>4</td>\n",
              "      <td>NaN</td>\n",
              "      <td>Yes</td>\n",
              "      <td>Yes</td>\n",
              "    </tr>\n",
              "  </tbody>\n",
              "</table>\n",
              "<p>5 rows × 31 columns</p>\n",
              "</div>"
            ],
            "text/plain": [
              "             Timestamp  Name (Optional)  Age  Gender Place hailing from  \\\n",
              "0  01/04/2023 22:25:20          Shebin    21    Male             Kerala   \n",
              "1  01/04/2023 22:26:40             Arya   22  Female             Kerala   \n",
              "2  01/04/2023 22:26:43  Anandhalakshmi    22  Female             Kerala   \n",
              "3  01/04/2023 22:53:33           Nidin    21    Male         Tamil Nadu   \n",
              "4  01/04/2023 23:05:14     Rishav Laloo   23    Male          Meghalaya   \n",
              "\n",
              "  Name of the Hostel Category                                   Type  \\\n",
              "0            KE Hall     Boys  Hostels run by Christian missionaries   \n",
              "1    Augustine Nivas    Girls  Hostels run by Christian missionaries   \n",
              "2    Augustine Nivas    Girls  Hostels run by Christian missionaries   \n",
              "3            KE Hall     Boys                         Normal Hostels   \n",
              "4            KE Hall     Boys  Hostels run by Christian missionaries   \n",
              "\n",
              "  Distance from College:                   Location  ...  \\\n",
              "0       Less than 500 ms         CHRIST UNIVERSITY   ...   \n",
              "1         500 ms to 1 km              Kaveri Layout  ...   \n",
              "2         500 ms to 1 km             Kaveri layout   ...   \n",
              "3       Less than 500 ms  Inside Christ University   ...   \n",
              "4       Less than 500 ms          Christ University  ...   \n",
              "\n",
              "                               Appliances available  \\\n",
              "0                     Washing machine, Water heater   \n",
              "1                     Washing machine, Water heater   \n",
              "2                     Washing machine, Water heater   \n",
              "3  Washing machine, Induction cooktop, Water heater   \n",
              "4  Washing machine, Induction cooktop, Water heater   \n",
              "\n",
              "                                  Appliances allowed  \\\n",
              "0     Iron box, Kettle, Air frier, Induction Cooktop   \n",
              "1  Iron box, Kettle, Air frier, Hair drier/Straig...   \n",
              "2  Iron box, Kettle, Air frier, Hair drier/Straig...   \n",
              "3                                   Iron box, Kettle   \n",
              "4                                   Iron box, Kettle   \n",
              "\n",
              "  Rate the atmosphere around the hostel:  \\\n",
              "0                                      4   \n",
              "1                                      5   \n",
              "2                                      5   \n",
              "3                                      4   \n",
              "4                                      3   \n",
              "\n",
              "  On a scale of 1 to 5, how strict is the hostel/PG  \\\n",
              "0                                                 4   \n",
              "1                                                 3   \n",
              "2                                                 3   \n",
              "3                                                 4   \n",
              "4                                                 5   \n",
              "\n",
              "  On a scale of 1 to 5, how do you rate the food quality  \\\n",
              "0                                                3.0       \n",
              "1                                                3.0       \n",
              "2                                                3.0       \n",
              "3                                                3.0       \n",
              "4                                                NaN       \n",
              "\n",
              "  On a scale of 1 to 5, how do you rate the hostel cleanliness  \\\n",
              "0                                                  5             \n",
              "1                                                  4             \n",
              "2                                                  4             \n",
              "3                                                  4             \n",
              "4                                                  5             \n",
              "\n",
              "  On a scale of 1 to 5, select the overall rating  \\\n",
              "0                                               5   \n",
              "1                                               4   \n",
              "2                                               4   \n",
              "3                                               4   \n",
              "4                                               4   \n",
              "\n",
              "  Comments/Remarks/Suggestions related to hostel/PG  \\\n",
              "0                Library access is very convenient.   \n",
              "1                                               NaN   \n",
              "2                                               NaN   \n",
              "3                                               NaN   \n",
              "4                                               NaN   \n",
              "\n",
              "  Does the hostel/PG provide laundry facilities? Is the room well ventilated  \n",
              "0                                            Yes                         Yes  \n",
              "1                                             No                         Yes  \n",
              "2                                             No                         Yes  \n",
              "3                                            Yes                         Yes  \n",
              "4                                            Yes                         Yes  \n",
              "\n",
              "[5 rows x 31 columns]"
            ]
          },
          "execution_count": 149,
          "metadata": {},
          "output_type": "execute_result"
        }
      ],
      "source": [
        "#we need to read \"Nil\",\"NA\",\"none\",\"None\",\"Na\" in data as null value\n",
        "data = pd.read_csv(\"C:\\\\Users\\\\hp\\Downloads\\\\PG RECOMMENDATION SYSTEM (Responses) - Form responses 1 (4).csv\", na_values = [\"Nil\",\"NA\",\"none\",\"None\",\"Na\"])\n",
        "data.head()"
      ]
    },
    {
      "cell_type": "code",
      "execution_count": null,
      "id": "43fae1be",
      "metadata": {
        "id": "43fae1be",
        "outputId": "38f40f11-1ccc-4738-bedb-9bc227ee13e1"
      },
      "outputs": [
        {
          "name": "stdout",
          "output_type": "stream",
          "text": [
            "<class 'pandas.core.frame.DataFrame'>\n",
            "RangeIndex: 200 entries, 0 to 199\n",
            "Data columns (total 35 columns):\n",
            " #   Column                                                        Non-Null Count  Dtype  \n",
            "---  ------                                                        --------------  -----  \n",
            " 0   ID                                                            200 non-null    int64  \n",
            " 1   Age                                                           200 non-null    int64  \n",
            " 2   Gender                                                        200 non-null    object \n",
            " 3   Place hailing from                                            200 non-null    object \n",
            " 4   Name of the Hostel                                            200 non-null    object \n",
            " 5   Category                                                      200 non-null    object \n",
            " 6   Type                                                          200 non-null    object \n",
            " 7   Distance from College:                                        200 non-null    object \n",
            " 8   Location                                                      200 non-null    object \n",
            " 9   Does your PG/hostel provide mess facility?                    200 non-null    object \n",
            " 10  If yes, what type of food do they provide?                    200 non-null    object \n",
            " 11  Food type:                                                    200 non-null    object \n",
            " 12  Room Type:                                                    200 non-null    object \n",
            " 13  Fees (Paid monthly or yearly)                                 200 non-null    object \n",
            " 14  Is the room air conditioned (AC)                              200 non-null    object \n",
            " 15  Does the hostel/PG provide gym facilities                     200 non-null    object \n",
            " 16  Is WI-FI available                                            200 non-null    object \n",
            " 17  Is Parking available                                          200 non-null    object \n",
            " 18  Curfew (By what time you have to reach hostel)                200 non-null    object \n",
            " 19  Appliances available                                          200 non-null    object \n",
            " 20  Appliances allowed                                            200 non-null    object \n",
            " 21  Rate the atmosphere around the hostel:                        200 non-null    int64  \n",
            " 22  On a scale of 1 to 5, how strict is the hostel/PG             200 non-null    int64  \n",
            " 23  On a scale of 1 to 5, how do you rate the food quality        200 non-null    float64\n",
            " 24  On a scale of 1 to 5, how do you rate the hostel cleanliness  200 non-null    int64  \n",
            " 25  On a scale of 1 to 5, select the overall rating               200 non-null    int64  \n",
            " 26  Comments/Remarks/Suggestions related to hostel/PG             200 non-null    object \n",
            " 27  Does the hostel/PG provide laundry facilities?                200 non-null    object \n",
            " 28  Is the room well ventilated                                   200 non-null    object \n",
            " 29  Mean Rating                                                   200 non-null    float64\n",
            " 30  Mean Rating Cleanliness                                       200 non-null    float64\n",
            " 31  Mean Rating Strictness                                        200 non-null    float64\n",
            " 32  descriptions                                                  200 non-null    object \n",
            " 33  int_fees per month                                            200 non-null    int32  \n",
            " 34  FEES_RANGE                                                    200 non-null    object \n",
            "dtypes: float64(4), int32(1), int64(6), object(24)\n",
            "memory usage: 54.0+ KB\n"
          ]
        }
      ],
      "source": [
        "data1.info()"
      ]
    },
    {
      "cell_type": "markdown",
      "id": "00e09d6b",
      "metadata": {
        "id": "00e09d6b"
      },
      "source": [
        "## DATA PRE-PROCESSING:"
      ]
    },
    {
      "cell_type": "markdown",
      "id": "b040af7f",
      "metadata": {
        "id": "b040af7f"
      },
      "source": [
        "##### 1. DELETING UNNECESSARY COLUMNS."
      ]
    },
    {
      "cell_type": "code",
      "execution_count": null,
      "id": "8fa960a2",
      "metadata": {
        "id": "8fa960a2"
      },
      "outputs": [],
      "source": [
        "data1 = data.drop(['Timestamp','Name (Optional)'], axis=1)"
      ]
    },
    {
      "cell_type": "markdown",
      "id": "acc9b5f3",
      "metadata": {
        "id": "acc9b5f3"
      },
      "source": [
        "##### 2. REMOVING NULL VALUES:"
      ]
    },
    {
      "cell_type": "code",
      "execution_count": null,
      "id": "5fc2d9a5",
      "metadata": {
        "id": "5fc2d9a5"
      },
      "outputs": [],
      "source": [
        "data1['On a scale of 1 to 5, how do you rate the food quality'].fillna(0, inplace = True)\n",
        "data1['Comments/Remarks/Suggestions related to hostel/PG'].fillna(\"Not Available\", inplace = True)\n",
        "data1['Food type:'].fillna(\"Not Available\", inplace = True)\n",
        "data1['If yes, what type of food do they provide?'].fillna(\"Not Available\", inplace = True)\n",
        "data1['Name of the Hostel'].fillna(\"Not Available\", inplace = True)"
      ]
    },
    {
      "cell_type": "code",
      "execution_count": null,
      "id": "e424eb91",
      "metadata": {
        "id": "e424eb91",
        "outputId": "d0a8de40-f1be-450c-9951-09f2cd0a655b"
      },
      "outputs": [
        {
          "name": "stdout",
          "output_type": "stream",
          "text": [
            "<class 'pandas.core.frame.DataFrame'>\n",
            "RangeIndex: 200 entries, 0 to 199\n",
            "Data columns (total 29 columns):\n",
            " #   Column                                                        Non-Null Count  Dtype  \n",
            "---  ------                                                        --------------  -----  \n",
            " 0   Age                                                           200 non-null    int64  \n",
            " 1   Gender                                                        200 non-null    object \n",
            " 2   Place hailing from                                            200 non-null    object \n",
            " 3   Name of the Hostel                                            200 non-null    object \n",
            " 4   Category                                                      200 non-null    object \n",
            " 5   Type                                                          200 non-null    object \n",
            " 6   Distance from College:                                        200 non-null    object \n",
            " 7   Location                                                      200 non-null    object \n",
            " 8   Does your PG/hostel provide mess facility?                    200 non-null    object \n",
            " 9   If yes, what type of food do they provide?                    200 non-null    object \n",
            " 10  Food type:                                                    200 non-null    object \n",
            " 11  Room Type:                                                    200 non-null    object \n",
            " 12  Fees (Paid monthly or yearly)                                 200 non-null    object \n",
            " 13  Fees per month                                                200 non-null    object \n",
            " 14  Is the room air conditioned (AC)                              200 non-null    object \n",
            " 15  Does the hostel/PG provide gym facilities                     200 non-null    object \n",
            " 16  Is WI-FI available                                            200 non-null    object \n",
            " 17  Is Parking available                                          200 non-null    object \n",
            " 18  Curfew (By what time you have to reach hostel)                200 non-null    object \n",
            " 19  Appliances available                                          200 non-null    object \n",
            " 20  Appliances allowed                                            200 non-null    object \n",
            " 21  Rate the atmosphere around the hostel:                        200 non-null    int64  \n",
            " 22  On a scale of 1 to 5, how strict is the hostel/PG             200 non-null    int64  \n",
            " 23  On a scale of 1 to 5, how do you rate the food quality        200 non-null    float64\n",
            " 24  On a scale of 1 to 5, how do you rate the hostel cleanliness  200 non-null    int64  \n",
            " 25  On a scale of 1 to 5, select the overall rating               200 non-null    int64  \n",
            " 26  Comments/Remarks/Suggestions related to hostel/PG             200 non-null    object \n",
            " 27  Does the hostel/PG provide laundry facilities?                200 non-null    object \n",
            " 28  Is the room well ventilated                                   200 non-null    object \n",
            "dtypes: float64(1), int64(5), object(23)\n",
            "memory usage: 45.4+ KB\n"
          ]
        }
      ],
      "source": [
        "data1.info()"
      ]
    },
    {
      "cell_type": "markdown",
      "id": "311fe9fd",
      "metadata": {
        "id": "311fe9fd"
      },
      "source": [
        "##### 3. CONVERTING OBJECT TYPE TO STRING:"
      ]
    },
    {
      "cell_type": "code",
      "execution_count": null,
      "id": "b2fd9671",
      "metadata": {
        "id": "b2fd9671",
        "outputId": "a516ce26-6282-4398-de78-afeba4032fea"
      },
      "outputs": [
        {
          "name": "stdout",
          "output_type": "stream",
          "text": [
            "<class 'pandas.core.frame.DataFrame'>\n",
            "RangeIndex: 200 entries, 0 to 199\n",
            "Data columns (total 29 columns):\n",
            " #   Column                                                        Non-Null Count  Dtype  \n",
            "---  ------                                                        --------------  -----  \n",
            " 0   Age                                                           200 non-null    int64  \n",
            " 1   Gender                                                        200 non-null    object \n",
            " 2   Place hailing from                                            200 non-null    object \n",
            " 3   Name of the Hostel                                            200 non-null    object \n",
            " 4   Category                                                      200 non-null    object \n",
            " 5   Type                                                          200 non-null    object \n",
            " 6   Distance from College:                                        200 non-null    object \n",
            " 7   Location                                                      200 non-null    object \n",
            " 8   Does your PG/hostel provide mess facility?                    200 non-null    object \n",
            " 9   If yes, what type of food do they provide?                    200 non-null    object \n",
            " 10  Food type:                                                    200 non-null    object \n",
            " 11  Room Type:                                                    200 non-null    object \n",
            " 12  Fees (Paid monthly or yearly)                                 200 non-null    object \n",
            " 13  Fees per month                                                200 non-null    object \n",
            " 14  Is the room air conditioned (AC)                              200 non-null    object \n",
            " 15  Does the hostel/PG provide gym facilities                     200 non-null    object \n",
            " 16  Is WI-FI available                                            200 non-null    object \n",
            " 17  Is Parking available                                          200 non-null    object \n",
            " 18  Curfew (By what time you have to reach hostel)                200 non-null    object \n",
            " 19  Appliances available                                          200 non-null    object \n",
            " 20  Appliances allowed                                            200 non-null    object \n",
            " 21  Rate the atmosphere around the hostel:                        200 non-null    int64  \n",
            " 22  On a scale of 1 to 5, how strict is the hostel/PG             200 non-null    int64  \n",
            " 23  On a scale of 1 to 5, how do you rate the food quality        179 non-null    float64\n",
            " 24  On a scale of 1 to 5, how do you rate the hostel cleanliness  200 non-null    int64  \n",
            " 25  On a scale of 1 to 5, select the overall rating               200 non-null    int64  \n",
            " 26  Comments/Remarks/Suggestions related to hostel/PG             200 non-null    object \n",
            " 27  Does the hostel/PG provide laundry facilities?                200 non-null    object \n",
            " 28  Is the room well ventilated                                   200 non-null    object \n",
            "dtypes: float64(1), int64(5), object(23)\n",
            "memory usage: 45.4+ KB\n"
          ]
        }
      ],
      "source": [
        "# TO CONVERT COLUMNS WITH OBJECT DATATYPE TO STRING DATA TYPE\n",
        "stringcols = data1.select_dtypes(include='object').columns\n",
        "data1[stringcols] = data1[stringcols].fillna('').astype(str)\n",
        "data1.info()"
      ]
    },
    {
      "cell_type": "markdown",
      "id": "e1abfc97",
      "metadata": {
        "id": "e1abfc97"
      },
      "source": [
        "##### 4. REMOVE TRAILING WHITESPACES FROM NAME OF THE HOSTELS COLUMN:"
      ]
    },
    {
      "cell_type": "code",
      "execution_count": null,
      "id": "c038ec86",
      "metadata": {
        "id": "c038ec86"
      },
      "outputs": [],
      "source": [
        "# REMOVING TRAILING WHITE SPACES FROM ALL HOSTEL/PG NAMES:\n",
        "\n",
        "data1['Name of the Hostel'] = data1['Name of the Hostel'].apply(str.rstrip)"
      ]
    },
    {
      "cell_type": "markdown",
      "id": "e77aab80",
      "metadata": {
        "id": "e77aab80"
      },
      "source": [
        "##### 5. CONVERTING ALL HOSTEL NAMES TO LOWER CASE:"
      ]
    },
    {
      "cell_type": "code",
      "execution_count": null,
      "id": "893c045d",
      "metadata": {
        "id": "893c045d"
      },
      "outputs": [],
      "source": [
        "data1['Name of the Hostel'] = data1['Name of the Hostel'].str.lower()"
      ]
    },
    {
      "cell_type": "markdown",
      "id": "0873606f",
      "metadata": {
        "id": "0873606f"
      },
      "source": [
        "##### 6. FINDING THE NUMBER OF HOSTELS WHOSE DATA WE HAVE COLLECTED."
      ]
    },
    {
      "cell_type": "code",
      "execution_count": null,
      "id": "d7d786ed",
      "metadata": {
        "id": "d7d786ed",
        "outputId": "0e5a0329-e915-4292-c5e3-8a75878ba4b0"
      },
      "outputs": [
        {
          "data": {
            "text/plain": [
              "93"
            ]
          },
          "execution_count": 45,
          "metadata": {},
          "output_type": "execute_result"
        }
      ],
      "source": [
        "data1[\"Name of the Hostel\"].nunique()"
      ]
    },
    {
      "cell_type": "markdown",
      "id": "2b309314",
      "metadata": {
        "id": "2b309314"
      },
      "source": [
        "##### 7.FINDING UNIQUE HOSTELS"
      ]
    },
    {
      "cell_type": "code",
      "execution_count": null,
      "id": "a16bab2c",
      "metadata": {
        "id": "a16bab2c",
        "outputId": "a222eae5-ff67-4884-e8d0-57c391918d9b"
      },
      "outputs": [
        {
          "data": {
            "text/plain": [
              "array(['ke hall', 'augustine nivas', 'stanza living',\n",
              "       'gayathri luxury pg', 'providence convent', 'besania study house',\n",
              "       'jonas hall', 'not available', 'pelagia hostel',\n",
              "       'sri sai pg for ladies', 'malabar plaza', 'savina bhavan',\n",
              "       'young india pg', 'ankalamma pg for ladies', 'vijalakshmi',\n",
              "       'joseph pg for ladies', 'lakshmi venkateshwara pg', 'joseph’s pg',\n",
              "       'aishwarya sunshine pg', 'sri omkareshwara pg',\n",
              "       'sri lakshmi venkateshwara pg for girls', 'happy homes hostel',\n",
              "       'vaibhava pg', 'caritas study house', 'sannidhana', 'slv pg',\n",
              "       'shree hostel', 'sapthagiri', 'venkateshwara pg', 'serenity',\n",
              "       'besania hostel', 'new sri krishna krupa pg',\n",
              "       'providence covent hostel', 'cst vidhya bhavan', 'snehadan',\n",
              "       'aishwarya pg', 'yuva vikas hostel', 'adler',\n",
              "       'providence convent hostel', 'comfort luxury', 'yuvi',\n",
              "       'prashanti study house', 'svr pg for ladies', 'ankalamma',\n",
              "       'puzzles living', 'slv ladies pg', 'myroomie camellia',\n",
              "       'sri lakshmi venkateshwara', 'svr pg', 'puzzles hope house',\n",
              "       'presidency hostels', 'sri lakshmi venkateshwara pg', 'sri pmr pg',\n",
              "       'yashmitha', 'agustine nivas', 'v r hostels', 'kms  elite',\n",
              "       'sreenevasa laxmi luxury pg', 'sri pmr ladies pg',\n",
              "       'stanza living frankfurt', 'orio living', 'st.marry pg',\n",
              "       'i the ladies pg', \"loyola women's hostel\", 'aira girls pg',\n",
              "       'orion co living', 'venketeshwar ladies pg', 'radhakrushna pg',\n",
              "       'gns cosmo home pg', 'aishwarya sunshine hostel', 'casa',\n",
              "       'lvr living', 'myroomie camillia', 'yashmitha pg', 'zolo maple',\n",
              "       'vaayu hostels', 'nesto amigos', 'gayathri luxury hostel',\n",
              "       'zolo hazel', 'sannidhana girls hostel', 'sannidhana study house',\n",
              "       'sannidhana study house sabs', \"blue bell's\", 'madhavan pg',\n",
              "       'stanza living frankfurt house', 'zolo mapple', 'laza rooming',\n",
              "       'sree sathya', 'om parameswar', 'coliv 579 springfeild',\n",
              "       'nesto stays', 'c comforts', 'nesto charan'], dtype=object)"
            ]
          },
          "execution_count": 46,
          "metadata": {},
          "output_type": "execute_result"
        }
      ],
      "source": [
        "#data['column'] = df['column'].astype('str')\n",
        "data1['Name of the Hostel'].unique()"
      ]
    },
    {
      "cell_type": "markdown",
      "id": "c60d2711",
      "metadata": {
        "id": "c60d2711"
      },
      "source": [
        "7.since some of them are just the same hostels but written in different formats, convert into a single name."
      ]
    },
    {
      "cell_type": "code",
      "execution_count": null,
      "id": "756bb051",
      "metadata": {
        "id": "756bb051",
        "outputId": "e9f300ba-ca9a-4c6b-be46-8e6f74987fc5"
      },
      "outputs": [
        {
          "data": {
            "text/plain": [
              "array(['ke hall', 'augustine nivas', 'stanza living',\n",
              "       'gayathri luxury pg', 'providence convent', 'besania study house',\n",
              "       'jonas hall', 'not available', 'pelagia hostel',\n",
              "       'sri sai pg for ladies', 'malabar plaza', 'savina bhavan',\n",
              "       'young india pg', 'ankalamma pg for ladies', 'vijalakshmi',\n",
              "       'joseph pg for ladies', 'sri lakshmi venkateshwara pg for girls',\n",
              "       'aishwarya sunshine pg', 'sri omkareshwara pg',\n",
              "       'happy homes hostel', 'vaibhava pg', 'caritas study house',\n",
              "       'sannidhana study house', 'slv ladies pg', 'shree hostel',\n",
              "       'sapthagiri', 'venkateshwara pg', 'serenity',\n",
              "       'new sri krishna krupa pg', 'cst vidhya bhavan', 'snehadan',\n",
              "       'aishwarya pg', 'yuva vikas hostel', 'adler',\n",
              "       'providence convent hostel', 'comfort luxury', 'yuvi',\n",
              "       'prashanti study house', 'svr pg for ladies', 'puzzles living',\n",
              "       'myroomie camellia', 'svr pg', 'puzzles hope house',\n",
              "       'presidency hostels', 'sri pmr pg', 'yashmitha pg', 'v r hostels',\n",
              "       'kms  elite', 'sreenevasa laxmi luxury pg', 'sri pmr ladies pg',\n",
              "       'stanza living frankfurt house', 'orio living', 'st.marry pg',\n",
              "       'i the ladies pg', \"loyola women's hostel\", 'aira girls pg',\n",
              "       'orion co living', 'venketeshwar ladies pg', 'radhakrushna pg',\n",
              "       'gns cosmo home pg', 'aishwarya sunshine hostel', 'casa',\n",
              "       'lvr living', 'myroomie camillia', 'zolo mapple', 'vaayu hostels',\n",
              "       'nesto amigos', 'gayathri luxury hostel', 'zolo hazel',\n",
              "       \"blue bell's\", 'madhavan pg', 'laza rooming', 'sree sathya',\n",
              "       'om parameswar', 'coliv 579 springfeild', 'nesto stays',\n",
              "       'c comforts', 'nesto charan'], dtype=object)"
            ]
          },
          "execution_count": 47,
          "metadata": {},
          "output_type": "execute_result"
        }
      ],
      "source": [
        "data1['Name of the Hostel'] = data1['Name of the Hostel'].replace('', 'not given')\n",
        "data1['Name of the Hostel'] = data1['Name of the Hostel'].replace('joseph’s pg', 'joseph pg for ladies')\n",
        "data1['Name of the Hostel'] = data1['Name of the Hostel'].replace('sri lakshmi venkateshwara pg', 'sri lakshmi venkateshwara pg for girls')\n",
        "data1['Name of the Hostel'] = data1['Name of the Hostel'].replace('lakshmi venkateshwara pg', 'sri lakshmi venkateshwara pg for girls')\n",
        "data1['Name of the Hostel'] = data1['Name of the Hostel'].replace('sri lakshmi venkateshwara', 'sri lakshmi venkateshwara pg for girls')\n",
        "data1['Name of the Hostel'] = data1['Name of the Hostel'].replace('besania hostel', 'besania study house')\n",
        "data1['Name of the Hostel'] = data1['Name of the Hostel'].replace('providence covent hostel', 'providence convent')\n",
        "data1['Name of the Hostel'] = data1['Name of the Hostel'].replace('ankalamma', 'ankalamma pg for ladies')\n",
        "data1['Name of the Hostel'] = data1['Name of the Hostel'].replace('slv pg', 'slv ladies pg')\n",
        "data1['Name of the Hostel'] = data1['Name of the Hostel'].replace('agustine nivas', 'augustine nivas')\n",
        "data1['Name of the Hostel'] = data1['Name of the Hostel'].replace('yashmitha', 'yashmitha pg')\n",
        "data1['Name of the Hostel'] = data1['Name of the Hostel'].replace(['sannidhana', 'sannidhana girls hostel', 'sannidhana study house sabs'], 'sannidhana study house')\n",
        "data1['Name of the Hostel'] = data1['Name of the Hostel'].replace('zolo maple', 'zolo mapple')\n",
        "data1['Name of the Hostel'] = data1['Name of the Hostel'].replace('stanza living frankfurt', 'stanza living frankfurt house')\n",
        "\n",
        "\n",
        "\n",
        "\n",
        "data1['Name of the Hostel'].unique()"
      ]
    },
    {
      "cell_type": "code",
      "execution_count": null,
      "id": "dee6673b",
      "metadata": {
        "id": "dee6673b",
        "outputId": "94e0eff9-3aae-4054-9339-8a8017103e86"
      },
      "outputs": [
        {
          "data": {
            "text/plain": [
              "78"
            ]
          },
          "execution_count": 48,
          "metadata": {},
          "output_type": "execute_result"
        }
      ],
      "source": [
        "data1[\"Name of the Hostel\"].nunique()"
      ]
    },
    {
      "cell_type": "markdown",
      "id": "8854c641",
      "metadata": {
        "id": "8854c641"
      },
      "source": [
        "##### 8. ROOM TYPE:"
      ]
    },
    {
      "cell_type": "code",
      "execution_count": null,
      "id": "4f3d4e87",
      "metadata": {
        "id": "4f3d4e87"
      },
      "outputs": [],
      "source": [
        "data1['Room Type:'] = data1['Room Type:'].replace(['2/4/6 Sharing', 'Two sharing special room daaaa!!!!', 'All', \"Single, two sharing and 3 sharing \"], 'Two-Sharing')\n",
        "data1['Room Type:'] = data1['Room Type:'].replace(['Single '], 'Single')"
      ]
    },
    {
      "cell_type": "code",
      "execution_count": null,
      "id": "f80e294b",
      "metadata": {
        "id": "f80e294b",
        "outputId": "01373e41-aaf4-41cc-da97-47bdc1f2f905"
      },
      "outputs": [
        {
          "data": {
            "text/plain": [
              "array(['Three-Sharing', 'Two-Sharing', 'Four-Sharing', 'Single'],\n",
              "      dtype=object)"
            ]
          },
          "execution_count": 59,
          "metadata": {},
          "output_type": "execute_result"
        }
      ],
      "source": [
        "data1['Room Type:'].unique()"
      ]
    },
    {
      "cell_type": "markdown",
      "id": "e7ce556b",
      "metadata": {
        "id": "e7ce556b"
      },
      "source": [
        "In total we have details of 78 hostels"
      ]
    },
    {
      "cell_type": "markdown",
      "id": "4cd13c86",
      "metadata": {
        "id": "4cd13c86"
      },
      "source": [
        "##### 9. DATATYPE OF FEES_PER_MONTH COLUMN:"
      ]
    },
    {
      "cell_type": "code",
      "execution_count": null,
      "id": "b8d27e34",
      "metadata": {
        "id": "b8d27e34",
        "outputId": "0d1c1146-ec22-4f57-d7d1-1450bb095234"
      },
      "outputs": [
        {
          "data": {
            "text/plain": [
              "0       4,500\n",
              "1      11,500\n",
              "2        8000\n",
              "3       4,500\n",
              "4        5000\n",
              "        ...  \n",
              "195      9000\n",
              "196     16000\n",
              "197      6000\n",
              "198      6800\n",
              "199      6800\n",
              "Name: Fees per month, Length: 200, dtype: object"
            ]
          },
          "execution_count": 60,
          "metadata": {},
          "output_type": "execute_result"
        }
      ],
      "source": [
        "#CONVERTING TO FLOAT TYPE:\n",
        "\n",
        "data1['Fees per month']"
      ]
    },
    {
      "cell_type": "code",
      "execution_count": null,
      "id": "a4cb5a75",
      "metadata": {
        "id": "a4cb5a75"
      },
      "outputs": [],
      "source": [
        "# SOME HAVE COMMAS AND SOME DOESN'T SO CONVERTING THE FEES COLUMN TO FLOAT VALUES.\n",
        "\n",
        "data1['int_fees per month'] = data1['Fees per month'].astype('str').str.extractall('(\\d+)').unstack().fillna('').sum(axis=1).astype(int)\n",
        "data1['int_fees per month']\n",
        "data1.drop(['Fees per month'], axis = 1, inplace = True)"
      ]
    },
    {
      "cell_type": "markdown",
      "id": "19f98576",
      "metadata": {
        "id": "19f98576"
      },
      "source": [
        "##### 10. CREATING A COLUMN CALLED FEES RANGE FOR RECOMMENDATION"
      ]
    },
    {
      "cell_type": "code",
      "execution_count": null,
      "id": "d2334a48",
      "metadata": {
        "id": "d2334a48"
      },
      "outputs": [],
      "source": [
        "conditions = [\n",
        "    (data1['int_fees per month'] <= 5000),\n",
        "    (data1['int_fees per month'] > 5000) & (data1['int_fees per month'] <= 8000),\n",
        "    (data1['int_fees per month'] > 8000) & (data1['int_fees per month'] <= 12000),\n",
        "    (data1['int_fees per month'] > 12000)\n",
        "    ]"
      ]
    },
    {
      "cell_type": "code",
      "execution_count": null,
      "id": "96a5f8b1",
      "metadata": {
        "id": "96a5f8b1"
      },
      "outputs": [],
      "source": [
        "values = [\"LESS THAN 5000\", \"BETWEEN 5000 AND 8000\", \"BETWEEN 8000 AND 12000\", \"MORE THAN 12000\"]"
      ]
    },
    {
      "cell_type": "code",
      "execution_count": null,
      "id": "03a5c317",
      "metadata": {
        "id": "03a5c317"
      },
      "outputs": [],
      "source": [
        "data1['FEES_RANGE'] = np.select(conditions, values)"
      ]
    },
    {
      "cell_type": "code",
      "execution_count": null,
      "id": "8fc75c79",
      "metadata": {
        "id": "8fc75c79",
        "outputId": "e0c08e32-4d3d-4728-9ca9-0c3da981049e"
      },
      "outputs": [
        {
          "data": {
            "text/plain": [
              "array(['LESS THAN 5000', 'BETWEEN 8000 AND 12000',\n",
              "       'BETWEEN 5000 AND 8000', 'MORE THAN 12000'], dtype=object)"
            ]
          },
          "execution_count": 65,
          "metadata": {},
          "output_type": "execute_result"
        }
      ],
      "source": [
        "data1['FEES_RANGE'].unique()"
      ]
    },
    {
      "cell_type": "markdown",
      "id": "ee4d16ad",
      "metadata": {
        "id": "ee4d16ad"
      },
      "source": [
        "##### 11. FINDING MEAN RATING FOR EACH HOSTEL AND REPLACING IT WITH OVERALL RATING:"
      ]
    },
    {
      "cell_type": "code",
      "execution_count": null,
      "id": "41ab1609",
      "metadata": {
        "id": "41ab1609"
      },
      "outputs": [],
      "source": [
        "hostels = list(data1['Name of the Hostel'].unique())\n",
        "data1['Mean Rating'] = 0\n",
        "\n",
        "for i in range(len(hostels)):\n",
        "    data1['Mean Rating'][data1['Name of the Hostel'] == hostels[i]] = data1['On a scale of 1 to 5, select the overall rating'][data1['Name of the Hostel'] == hostels[i]].mean()"
      ]
    },
    {
      "cell_type": "code",
      "execution_count": null,
      "id": "7a3a5487",
      "metadata": {
        "id": "7a3a5487"
      },
      "outputs": [],
      "source": [
        "hostels = list(data1['Name of the Hostel'].unique())\n",
        "data1['Mean Rating Cleanliness'] = 0\n",
        "\n",
        "for i in range(len(hostels)):\n",
        "    data1['Mean Rating Cleanliness'][data1['Name of the Hostel'] == hostels[i]] = data1['On a scale of 1 to 5, how do you rate the hostel cleanliness'][data1['Name of the Hostel'] == hostels[i]].mean()"
      ]
    },
    {
      "cell_type": "code",
      "execution_count": null,
      "id": "8454273e",
      "metadata": {
        "id": "8454273e"
      },
      "outputs": [],
      "source": [
        "hostels = list(data1['Name of the Hostel'].unique())\n",
        "data1['Mean Rating Strictness'] = 0\n",
        "\n",
        "for i in range(len(hostels)):\n",
        "    data1['Mean Rating Strictness'][data1['Name of the Hostel'] == hostels[i]] = data1['On a scale of 1 to 5, how strict is the hostel/PG'][data1['Name of the Hostel'] == hostels[i]].mean()"
      ]
    },
    {
      "cell_type": "markdown",
      "id": "9f13446f",
      "metadata": {
        "id": "9f13446f"
      },
      "source": [
        "## EDA AND VISUALIZATION:"
      ]
    },
    {
      "cell_type": "markdown",
      "id": "3f19f9b3",
      "metadata": {
        "id": "3f19f9b3"
      },
      "source": [
        "1. DISTRIBUTION OF FEES PER MONTH:"
      ]
    },
    {
      "cell_type": "code",
      "execution_count": null,
      "id": "a0d406a6",
      "metadata": {
        "id": "a0d406a6",
        "outputId": "44b25132-f870-4932-bd49-55deb95053cc"
      },
      "outputs": [
        {
          "data": {
            "text/plain": [
              "<AxesSubplot:xlabel='int_fees per month', ylabel='Count'>"
            ]
          },
          "execution_count": 26,
          "metadata": {},
          "output_type": "execute_result"
        },
        {
          "data": {
            "image/png": "[encoded data removed]",
            "text/plain": [
              "<Figure size 432x288 with 1 Axes>"
            ]
          },
          "metadata": {
            "needs_background": "light"
          },
          "output_type": "display_data"
        }
      ],
      "source": [
        "sns.histplot(data = data1, x = \"int_fees per month\", kde = True)"
      ]
    },
    {
      "cell_type": "markdown",
      "id": "d7acb506",
      "metadata": {
        "id": "d7acb506"
      },
      "source": [
        "Common fee range is between 7,500 and 10,000"
      ]
    },
    {
      "cell_type": "markdown",
      "id": "ac1a659a",
      "metadata": {
        "id": "ac1a659a"
      },
      "source": [
        "## MODELING : CONTENT BASED FILTERING"
      ]
    },
    {
      "cell_type": "markdown",
      "id": "4b7f990f",
      "metadata": {
        "id": "4b7f990f"
      },
      "source": [
        "### 1. RECOMMENDING BASED ON USER'S  REQUIREMENT:"
      ]
    },
    {
      "cell_type": "markdown",
      "id": "9ea79735",
      "metadata": {
        "id": "9ea79735"
      },
      "source": [
        "##### 1.1 USING COSINE-SIMILARITY:"
      ]
    },
    {
      "cell_type": "code",
      "execution_count": null,
      "id": "5ed6fc24",
      "metadata": {
        "id": "5ed6fc24",
        "outputId": "2ced4f88-8b78-48df-fbac-48f530a01aab"
      },
      "outputs": [
        {
          "name": "stderr",
          "output_type": "stream",
          "text": [
            "[nltk_data] Downloading package wordnet to\n",
            "[nltk_data]     C:\\Users\\hp\\AppData\\Roaming\\nltk_data...\n",
            "[nltk_data]   Package wordnet is already up-to-date!\n",
            "[nltk_data] Downloading package punkt to\n",
            "[nltk_data]     C:\\Users\\hp\\AppData\\Roaming\\nltk_data...\n",
            "[nltk_data]   Package punkt is already up-to-date!\n",
            "[nltk_data] Downloading package stopwords to\n",
            "[nltk_data]     C:\\Users\\hp\\AppData\\Roaming\\nltk_data...\n",
            "[nltk_data]   Package stopwords is already up-to-date!\n",
            "[nltk_data] Downloading package omw-1.4 to\n",
            "[nltk_data]     C:\\Users\\hp\\AppData\\Roaming\\nltk_data...\n",
            "[nltk_data]   Package omw-1.4 is already up-to-date!\n"
          ]
        },
        {
          "data": {
            "text/plain": [
              "True"
            ]
          },
          "execution_count": 27,
          "metadata": {},
          "output_type": "execute_result"
        }
      ],
      "source": [
        "import nltk\n",
        "nltk.download('wordnet')\n",
        "import numpy as np\n",
        "import pandas as pd\n",
        "from nltk.corpus import stopwords\n",
        "from nltk.tokenize import word_tokenize\n",
        "from nltk.stem.wordnet import WordNetLemmatizer\n",
        "from ast import literal_eval\n",
        "\n",
        "import nltk\n",
        "nltk.download('punkt')\n",
        "nltk.download('stopwords')\n",
        "\n",
        "nltk.download('omw-1.4')"
      ]
    },
    {
      "cell_type": "code",
      "execution_count": null,
      "id": "8f01382a",
      "metadata": {
        "id": "8f01382a"
      },
      "outputs": [],
      "source": [
        "new_data1 = data1[['Name of the Hostel', 'Category', 'Type', 'Distance from College:', 'Does your PG/hostel provide mess facility?', 'int_fees per month','On a scale of 1 to 5, select the overall rating']]"
      ]
    },
    {
      "cell_type": "markdown",
      "id": "21f68c25",
      "metadata": {
        "id": "21f68c25"
      },
      "source": [
        "### Creating a description column which contains the feactures of the each hostel. This is used to compare with user's requirements and provide corresponding recommendations"
      ]
    },
    {
      "cell_type": "code",
      "execution_count": null,
      "id": "fa778991",
      "metadata": {
        "id": "fa778991",
        "outputId": "58727364-92dd-4a20-fd9e-cd65bdabf126"
      },
      "outputs": [
        {
          "data": {
            "text/plain": [
              "'Girls Hostels run by Christian missionaries 500 ms to 1 km BETWEEN 8000 AND 12000 Two-Sharing'"
            ]
          },
          "execution_count": 79,
          "metadata": {},
          "output_type": "execute_result"
        }
      ],
      "source": [
        "descriptions = data1['Category'] +' '+ data1['Type'] + ' ' + data1['Distance from College:'] + ' '+data1['FEES_RANGE'] + ' ' + data1['Room Type:']\n",
        "#Printing the first description\n",
        "descriptions[1]"
      ]
    },
    {
      "cell_type": "code",
      "execution_count": null,
      "id": "5623c0cd",
      "metadata": {
        "id": "5623c0cd"
      },
      "outputs": [],
      "source": [
        "data1['descriptions'] = descriptions"
      ]
    },
    {
      "cell_type": "code",
      "execution_count": null,
      "id": "6335aa0a",
      "metadata": {
        "id": "6335aa0a"
      },
      "outputs": [],
      "source": [
        "def requirementbased(distance,type,features):\n",
        "    data1['Distance from College:']=data1['Distance from College:'].str.lower()\n",
        "    data1['descriptions']=data1['descriptions'].str.lower()\n",
        "    #data1['Category']=data1['Category'].str.lower()\n",
        "    features=features.lower()\n",
        "    features_tokens=word_tokenize(features)\n",
        "    sw = stopwords.words('english')\n",
        "    lemm = WordNetLemmatizer()\n",
        "    f1_set = {w for w in features_tokens if not w in sw}\n",
        "    f_set=set()\n",
        "    for se in f1_set:\n",
        "        f_set.add(lemm.lemmatize(se))\n",
        "    reqbased=data1[data1['Distance from College:']==distance.lower()]\n",
        "    reqbased=reqbased[reqbased['Category']==type]\n",
        "    reqbased=reqbased.set_index(np.arange(reqbased.shape[0]))\n",
        "    l1 =[];l2 =[];cos=[];\n",
        "  #print(reqbased['roomamenities'])\n",
        "    for i in range(reqbased.shape[0]):\n",
        "        temp_tokens=word_tokenize(reqbased['descriptions'][i])\n",
        "        temp1_set={w for w in temp_tokens if not w in sw}\n",
        "        temp_set=set()\n",
        "        for se in temp1_set:\n",
        "            temp_set.add(lemm.lemmatize(se))\n",
        "        rvector = temp_set.intersection(f_set)\n",
        "      #print(rvector)\n",
        "        cos.append(len(rvector))\n",
        "    reqbased['similarity']=cos\n",
        "    reqbased=reqbased.sort_values(by='similarity',ascending=False)\n",
        "    reqbased.drop_duplicates(subset='Name of the Hostel',keep='first',inplace=True)\n",
        "    return reqbased[['Name of the Hostel','Category','Distance from College:', 'Room Type:']].head(10)"
      ]
    },
    {
      "cell_type": "code",
      "execution_count": null,
      "id": "445e95a2",
      "metadata": {
        "id": "445e95a2",
        "outputId": "b2133565-7cbf-427e-8af3-b0bb4ee786a9"
      },
      "outputs": [
        {
          "data": {
            "text/html": [
              "<div>\n",
              "<style scoped>\n",
              "    .dataframe tbody tr th:only-of-type {\n",
              "        vertical-align: middle;\n",
              "    }\n",
              "\n",
              "    .dataframe tbody tr th {\n",
              "        vertical-align: top;\n",
              "    }\n",
              "\n",
              "    .dataframe thead th {\n",
              "        text-align: right;\n",
              "    }\n",
              "</style>\n",
              "<table border=\"1\" class=\"dataframe\">\n",
              "  <thead>\n",
              "    <tr style=\"text-align: right;\">\n",
              "      <th></th>\n",
              "      <th>Name of the Hostel</th>\n",
              "      <th>Category</th>\n",
              "      <th>Distance from College:</th>\n",
              "      <th>Room Type:</th>\n",
              "    </tr>\n",
              "  </thead>\n",
              "  <tbody>\n",
              "    <tr>\n",
              "      <th>48</th>\n",
              "      <td>aira girls pg</td>\n",
              "      <td>Girls</td>\n",
              "      <td>less than 500 ms</td>\n",
              "      <td>Two-Sharing</td>\n",
              "    </tr>\n",
              "    <tr>\n",
              "      <th>15</th>\n",
              "      <td>venkateshwara pg</td>\n",
              "      <td>Girls</td>\n",
              "      <td>less than 500 ms</td>\n",
              "      <td>Two-Sharing</td>\n",
              "    </tr>\n",
              "    <tr>\n",
              "      <th>36</th>\n",
              "      <td>sri pmr pg</td>\n",
              "      <td>Girls</td>\n",
              "      <td>less than 500 ms</td>\n",
              "      <td>Two-Sharing</td>\n",
              "    </tr>\n",
              "    <tr>\n",
              "      <th>38</th>\n",
              "      <td>v r hostels</td>\n",
              "      <td>Girls</td>\n",
              "      <td>less than 500 ms</td>\n",
              "      <td>Two-Sharing</td>\n",
              "    </tr>\n",
              "    <tr>\n",
              "      <th>42</th>\n",
              "      <td>sri pmr ladies pg</td>\n",
              "      <td>Girls</td>\n",
              "      <td>less than 500 ms</td>\n",
              "      <td>Two-Sharing</td>\n",
              "    </tr>\n",
              "    <tr>\n",
              "      <th>9</th>\n",
              "      <td>aishwarya sunshine pg</td>\n",
              "      <td>Girls</td>\n",
              "      <td>less than 500 ms</td>\n",
              "      <td>Two-Sharing</td>\n",
              "    </tr>\n",
              "    <tr>\n",
              "      <th>50</th>\n",
              "      <td>aishwarya pg</td>\n",
              "      <td>Girls</td>\n",
              "      <td>less than 500 ms</td>\n",
              "      <td>Two-Sharing</td>\n",
              "    </tr>\n",
              "    <tr>\n",
              "      <th>49</th>\n",
              "      <td>venketeshwar ladies pg</td>\n",
              "      <td>Girls</td>\n",
              "      <td>less than 500 ms</td>\n",
              "      <td>Two-Sharing</td>\n",
              "    </tr>\n",
              "    <tr>\n",
              "      <th>18</th>\n",
              "      <td>new sri krishna krupa pg</td>\n",
              "      <td>Girls</td>\n",
              "      <td>less than 500 ms</td>\n",
              "      <td>Two-Sharing</td>\n",
              "    </tr>\n",
              "    <tr>\n",
              "      <th>45</th>\n",
              "      <td>i the ladies pg</td>\n",
              "      <td>Girls</td>\n",
              "      <td>less than 500 ms</td>\n",
              "      <td>Two-Sharing</td>\n",
              "    </tr>\n",
              "  </tbody>\n",
              "</table>\n",
              "</div>"
            ],
            "text/plain": [
              "          Name of the Hostel Category Distance from College:   Room Type:\n",
              "48             aira girls pg    Girls       less than 500 ms  Two-Sharing\n",
              "15          venkateshwara pg    Girls       less than 500 ms  Two-Sharing\n",
              "36                sri pmr pg    Girls       less than 500 ms  Two-Sharing\n",
              "38               v r hostels    Girls       less than 500 ms  Two-Sharing\n",
              "42         sri pmr ladies pg    Girls       less than 500 ms  Two-Sharing\n",
              "9      aishwarya sunshine pg    Girls       less than 500 ms  Two-Sharing\n",
              "50              aishwarya pg    Girls       less than 500 ms  Two-Sharing\n",
              "49    venketeshwar ladies pg    Girls       less than 500 ms  Two-Sharing\n",
              "18  new sri krishna krupa pg    Girls       less than 500 ms  Two-Sharing\n",
              "45           i the ladies pg    Girls       less than 500 ms  Two-Sharing"
            ]
          },
          "execution_count": 85,
          "metadata": {},
          "output_type": "execute_result"
        }
      ],
      "source": [
        "requirementbased(\"Less than 500 ms\", \"Girls\" ,'I need a Two-Sharing Girls PGs with a budget between 8000 and 12000')"
      ]
    },
    {
      "cell_type": "markdown",
      "id": "5d27045e",
      "metadata": {
        "id": "5d27045e"
      },
      "source": [
        "# HYBRID: DEMOGRAPHIC + CONTENT BASED"
      ]
    },
    {
      "cell_type": "markdown",
      "id": "0881a58b",
      "metadata": {
        "id": "0881a58b"
      },
      "source": [
        "This code is an example of a hybrid recommendation system because it combines two different recommendation approaches: demographic-based filtering and content-based filtering.\n",
        "\n",
        "Demographic-based filtering is a technique that recommends items to users based on their demographic information, such as  gender, and place hailing from. In the code, we extract the demographic variables from the dataset and preprocess them.\n",
        "\n",
        "Content-based filtering, on the other hand, recommends items to users based on the similarity of their attributes with the attributes of items they have previously liked. In the code, we extract the content-based variables (amenities and description) from the dataset, preprocess them, and calculate the pairwise cosine similarity between hostels based on these variables.\n",
        "\n",
        "This means that the recommendations take into account both the demographic information of the user and the content-based similarity of the hostels.\n",
        "\n",
        "By using a hybrid approach, we can potentially improve the accuracy of the recommendations by leveraging multiple sources of information."
      ]
    },
    {
      "cell_type": "code",
      "execution_count": null,
      "id": "2aa870a7",
      "metadata": {
        "id": "2aa870a7",
        "outputId": "4e01847f-9c63-4e55-f528-2ebe8c803494"
      },
      "outputs": [
        {
          "data": {
            "text/html": [
              "<div>\n",
              "<style scoped>\n",
              "    .dataframe tbody tr th:only-of-type {\n",
              "        vertical-align: middle;\n",
              "    }\n",
              "\n",
              "    .dataframe tbody tr th {\n",
              "        vertical-align: top;\n",
              "    }\n",
              "\n",
              "    .dataframe thead th {\n",
              "        text-align: right;\n",
              "    }\n",
              "</style>\n",
              "<table border=\"1\" class=\"dataframe\">\n",
              "  <thead>\n",
              "    <tr style=\"text-align: right;\">\n",
              "      <th></th>\n",
              "      <th>ID</th>\n",
              "      <th>Age</th>\n",
              "      <th>Gender</th>\n",
              "      <th>Place hailing from</th>\n",
              "      <th>Name of the Hostel</th>\n",
              "      <th>Category</th>\n",
              "      <th>Type</th>\n",
              "      <th>Distance from College:</th>\n",
              "      <th>Location</th>\n",
              "      <th>Does your PG/hostel provide mess facility?</th>\n",
              "      <th>...</th>\n",
              "      <th>Comments/Remarks/Suggestions related to hostel/PG</th>\n",
              "      <th>Does the hostel/PG provide laundry facilities?</th>\n",
              "      <th>Is the room well ventilated</th>\n",
              "      <th>Mean Rating</th>\n",
              "      <th>Mean Rating Cleanliness</th>\n",
              "      <th>Mean Rating Strictness</th>\n",
              "      <th>descriptions</th>\n",
              "      <th>int_fees per month</th>\n",
              "      <th>FEES_RANGE</th>\n",
              "      <th>similarity</th>\n",
              "    </tr>\n",
              "  </thead>\n",
              "  <tbody>\n",
              "    <tr>\n",
              "      <th>171</th>\n",
              "      <td>172</td>\n",
              "      <td>21</td>\n",
              "      <td>Female</td>\n",
              "      <td>Kerala</td>\n",
              "      <td>aishwarya pg</td>\n",
              "      <td>Girls</td>\n",
              "      <td>PGs</td>\n",
              "      <td>more than 1 km</td>\n",
              "      <td>BTM</td>\n",
              "      <td>Yes</td>\n",
              "      <td>...</td>\n",
              "      <td>Well maintained and neat rooms. Best service p...</td>\n",
              "      <td>No</td>\n",
              "      <td>Yes</td>\n",
              "      <td>3.0</td>\n",
              "      <td>3.2</td>\n",
              "      <td>2.2</td>\n",
              "      <td>girls pgs more than 1 km between 8000 and 1200...</td>\n",
              "      <td>10400</td>\n",
              "      <td>BETWEEN 8000 AND 12000</td>\n",
              "      <td>0.707107</td>\n",
              "    </tr>\n",
              "    <tr>\n",
              "      <th>177</th>\n",
              "      <td>178</td>\n",
              "      <td>21</td>\n",
              "      <td>Female</td>\n",
              "      <td>Kerala</td>\n",
              "      <td>aishwarya pg</td>\n",
              "      <td>Girls</td>\n",
              "      <td>PGs</td>\n",
              "      <td>more than 1 km</td>\n",
              "      <td>Btm</td>\n",
              "      <td>Yes</td>\n",
              "      <td>...</td>\n",
              "      <td>nil</td>\n",
              "      <td>Yes</td>\n",
              "      <td>Yes</td>\n",
              "      <td>3.0</td>\n",
              "      <td>3.2</td>\n",
              "      <td>2.2</td>\n",
              "      <td>girls pgs more than 1 km between 8000 and 1200...</td>\n",
              "      <td>10400</td>\n",
              "      <td>BETWEEN 8000 AND 12000</td>\n",
              "      <td>0.707107</td>\n",
              "    </tr>\n",
              "    <tr>\n",
              "      <th>54</th>\n",
              "      <td>55</td>\n",
              "      <td>21</td>\n",
              "      <td>Female</td>\n",
              "      <td>Kerala</td>\n",
              "      <td>new sri krishna krupa pg</td>\n",
              "      <td>Girls</td>\n",
              "      <td>PGs</td>\n",
              "      <td>less than 500 ms</td>\n",
              "      <td>1st Cross , S G Palaya</td>\n",
              "      <td>Yes</td>\n",
              "      <td>...</td>\n",
              "      <td>The PG rooms are quite small for two sharing, ...</td>\n",
              "      <td>Yes</td>\n",
              "      <td>No</td>\n",
              "      <td>3.0</td>\n",
              "      <td>3.0</td>\n",
              "      <td>3.0</td>\n",
              "      <td>girls pgs less than 500 ms between 8000 and 12...</td>\n",
              "      <td>10000</td>\n",
              "      <td>BETWEEN 8000 AND 12000</td>\n",
              "      <td>0.654654</td>\n",
              "    </tr>\n",
              "    <tr>\n",
              "      <th>143</th>\n",
              "      <td>144</td>\n",
              "      <td>22</td>\n",
              "      <td>Female</td>\n",
              "      <td>Kerala</td>\n",
              "      <td>aishwarya pg</td>\n",
              "      <td>Girls</td>\n",
              "      <td>PGs</td>\n",
              "      <td>less than 500 ms</td>\n",
              "      <td>Dairy Circle</td>\n",
              "      <td>Yes</td>\n",
              "      <td>...</td>\n",
              "      <td>Aishwarya is a scam</td>\n",
              "      <td>No</td>\n",
              "      <td>No</td>\n",
              "      <td>3.0</td>\n",
              "      <td>3.2</td>\n",
              "      <td>2.2</td>\n",
              "      <td>girls pgs less than 500 ms between 8000 and 12...</td>\n",
              "      <td>12000</td>\n",
              "      <td>BETWEEN 8000 AND 12000</td>\n",
              "      <td>0.654654</td>\n",
              "    </tr>\n",
              "    <tr>\n",
              "      <th>25</th>\n",
              "      <td>26</td>\n",
              "      <td>19</td>\n",
              "      <td>Female</td>\n",
              "      <td>Kerala</td>\n",
              "      <td>joseph pg for ladies</td>\n",
              "      <td>Girls</td>\n",
              "      <td>PGs</td>\n",
              "      <td>less than 500 ms</td>\n",
              "      <td>1st cross road-Bharathi Layout</td>\n",
              "      <td>Yes</td>\n",
              "      <td>...</td>\n",
              "      <td>.</td>\n",
              "      <td>Yes</td>\n",
              "      <td>Yes</td>\n",
              "      <td>4.0</td>\n",
              "      <td>4.0</td>\n",
              "      <td>1.5</td>\n",
              "      <td>girls pgs less than 500 ms between 8000 and 12...</td>\n",
              "      <td>8500</td>\n",
              "      <td>BETWEEN 8000 AND 12000</td>\n",
              "      <td>0.654654</td>\n",
              "    </tr>\n",
              "  </tbody>\n",
              "</table>\n",
              "<p>5 rows × 36 columns</p>\n",
              "</div>"
            ],
            "text/plain": [
              "      ID  Age  Gender Place hailing from        Name of the Hostel Category  \\\n",
              "171  172   21  Female             Kerala              aishwarya pg    Girls   \n",
              "177  178   21  Female             Kerala              aishwarya pg    Girls   \n",
              "54    55   21  Female             Kerala  new sri krishna krupa pg    Girls   \n",
              "143  144   22  Female             Kerala              aishwarya pg    Girls   \n",
              "25    26   19  Female             Kerala      joseph pg for ladies    Girls   \n",
              "\n",
              "    Type Distance from College:                        Location  \\\n",
              "171  PGs         more than 1 km                             BTM   \n",
              "177  PGs         more than 1 km                             Btm   \n",
              "54   PGs       less than 500 ms         1st Cross , S G Palaya    \n",
              "143  PGs       less than 500 ms                   Dairy Circle    \n",
              "25   PGs       less than 500 ms  1st cross road-Bharathi Layout   \n",
              "\n",
              "    Does your PG/hostel provide mess facility?  ...  \\\n",
              "171                                        Yes  ...   \n",
              "177                                        Yes  ...   \n",
              "54                                         Yes  ...   \n",
              "143                                        Yes  ...   \n",
              "25                                         Yes  ...   \n",
              "\n",
              "     Comments/Remarks/Suggestions related to hostel/PG  \\\n",
              "171  Well maintained and neat rooms. Best service p...   \n",
              "177                                                nil   \n",
              "54   The PG rooms are quite small for two sharing, ...   \n",
              "143                                Aishwarya is a scam   \n",
              "25                                                   .   \n",
              "\n",
              "    Does the hostel/PG provide laundry facilities?  \\\n",
              "171                                             No   \n",
              "177                                            Yes   \n",
              "54                                             Yes   \n",
              "143                                             No   \n",
              "25                                             Yes   \n",
              "\n",
              "    Is the room well ventilated Mean Rating Mean Rating Cleanliness  \\\n",
              "171                         Yes         3.0                     3.2   \n",
              "177                         Yes         3.0                     3.2   \n",
              "54                           No         3.0                     3.0   \n",
              "143                          No         3.0                     3.2   \n",
              "25                          Yes         4.0                     4.0   \n",
              "\n",
              "    Mean Rating Strictness                                       descriptions  \\\n",
              "171                    2.2  girls pgs more than 1 km between 8000 and 1200...   \n",
              "177                    2.2  girls pgs more than 1 km between 8000 and 1200...   \n",
              "54                     3.0  girls pgs less than 500 ms between 8000 and 12...   \n",
              "143                    2.2  girls pgs less than 500 ms between 8000 and 12...   \n",
              "25                     1.5  girls pgs less than 500 ms between 8000 and 12...   \n",
              "\n",
              "    int_fees per month              FEES_RANGE similarity  \n",
              "171              10400  BETWEEN 8000 AND 12000   0.707107  \n",
              "177              10400  BETWEEN 8000 AND 12000   0.707107  \n",
              "54               10000  BETWEEN 8000 AND 12000   0.654654  \n",
              "143              12000  BETWEEN 8000 AND 12000   0.654654  \n",
              "25                8500  BETWEEN 8000 AND 12000   0.654654  \n",
              "\n",
              "[5 rows x 36 columns]"
            ]
          },
          "execution_count": 112,
          "metadata": {},
          "output_type": "execute_result"
        }
      ],
      "source": [
        "import pandas as pd\n",
        "from sklearn.feature_extraction.text import CountVectorizer\n",
        "from sklearn.metrics.pairwise import cosine_similarity\n",
        "\n",
        "# Load the hostel dataset\n",
        "hostels = data1\n",
        "\n",
        "# Define the user's demographic profile\n",
        "\n",
        "gender = 'Female'\n",
        "place = 'Kerala'\n",
        "\n",
        "# Filter hostels based on demographic preferences\n",
        "filtered_hostels = hostels[\n",
        "                           (hostels['Gender'] == gender) &\n",
        "                           (hostels['Place hailing from'] == place)]\n",
        "# Extract the features from the hostel descriptions\n",
        "vectorizer = CountVectorizer(stop_words='english')\n",
        "features = vectorizer.fit_transform(filtered_hostels['descriptions']).toarray()\n",
        "\n",
        "# Compute the cosine similarity between the features and the user's preferences\n",
        "user_preferences = [\"I need PGs with fees between 8000 and 12000\"]\n",
        "user_vector = vectorizer.transform(user_preferences).toarray()\n",
        "similarities = cosine_similarity(features, user_vector)\n",
        "\n",
        "# Rank the hostels based on similarity score\n",
        "ranked_hostels = filtered_hostels.copy()\n",
        "ranked_hostels['similarity'] = similarities[:, 0]\n",
        "ranked_hostels.sort_values('similarity', ascending=False, inplace=True)\n",
        "\n",
        "dataframe = pd.DataFrame(ranked_hostels)\n",
        "\n",
        "# Print the top 5 recommended hostels\n",
        "dataframe.head()"
      ]
    },
    {
      "cell_type": "markdown",
      "id": "1b047273",
      "metadata": {
        "id": "1b047273"
      },
      "source": [
        "### 1.2 BY USING MEAN RATING"
      ]
    },
    {
      "cell_type": "code",
      "execution_count": null,
      "id": "107e006e",
      "metadata": {
        "id": "107e006e"
      },
      "outputs": [],
      "source": [
        "def descriptionbased(desc):\n",
        "    desc = desc.lower()\n",
        "    data1['Distance from College:']=data1['Distance from College:'].str.lower()\n",
        "    data1['descriptions'] = data1['descriptions'].str.lower()\n",
        "    descriptionbase=data1[data1['descriptions']== desc]\n",
        "    descriptionbase=descriptionbase.sort_values(by='Mean Rating',ascending=False)\n",
        "    descriptionbase.drop_duplicates(subset='Name of the Hostel',keep='first',inplace=True)\n",
        "    if(descriptionbase.empty ==0):\n",
        "        hname=descriptionbase[['Name of the Hostel','Mean Rating','Distance from College:']]\n",
        "        return hname.head()\n",
        "    else:\n",
        "        print('No Hostels Available')"
      ]
    },
    {
      "cell_type": "code",
      "execution_count": null,
      "id": "cf779b5f",
      "metadata": {
        "id": "cf779b5f",
        "outputId": "d467b6bf-6dd3-4725-9549-f6fdc4c6aa50"
      },
      "outputs": [
        {
          "name": "stdout",
          "output_type": "stream",
          "text": [
            "Top hostels\n"
          ]
        },
        {
          "data": {
            "text/html": [
              "<div>\n",
              "<style scoped>\n",
              "    .dataframe tbody tr th:only-of-type {\n",
              "        vertical-align: middle;\n",
              "    }\n",
              "\n",
              "    .dataframe tbody tr th {\n",
              "        vertical-align: top;\n",
              "    }\n",
              "\n",
              "    .dataframe thead th {\n",
              "        text-align: right;\n",
              "    }\n",
              "</style>\n",
              "<table border=\"1\" class=\"dataframe\">\n",
              "  <thead>\n",
              "    <tr style=\"text-align: right;\">\n",
              "      <th></th>\n",
              "      <th>Name of the Hostel</th>\n",
              "      <th>Mean Rating</th>\n",
              "      <th>Distance from College:</th>\n",
              "    </tr>\n",
              "  </thead>\n",
              "  <tbody>\n",
              "    <tr>\n",
              "      <th>1</th>\n",
              "      <td>augustine nivas</td>\n",
              "      <td>3.791667</td>\n",
              "      <td>500 ms to 1 km</td>\n",
              "    </tr>\n",
              "    <tr>\n",
              "      <th>178</th>\n",
              "      <td>sannidhana study house</td>\n",
              "      <td>3.400000</td>\n",
              "      <td>500 ms to 1 km</td>\n",
              "    </tr>\n",
              "  </tbody>\n",
              "</table>\n",
              "</div>"
            ],
            "text/plain": [
              "         Name of the Hostel  Mean Rating Distance from College:\n",
              "1           augustine nivas     3.791667         500 ms to 1 km\n",
              "178  sannidhana study house     3.400000         500 ms to 1 km"
            ]
          },
          "execution_count": 122,
          "metadata": {},
          "output_type": "execute_result"
        }
      ],
      "source": [
        "print('Top hostels')\n",
        "descriptionbased('Girls Hostels run by Christian missionaries 500 ms to 1 km BETWEEN 8000 AND 12000 Two-Sharing')"
      ]
    },
    {
      "cell_type": "markdown",
      "id": "a34877c3",
      "metadata": {
        "id": "a34877c3"
      },
      "source": [
        "## 2. RECOMMENDING HOSTELS SIMILAR TO OTHER HOSTELS"
      ]
    },
    {
      "cell_type": "code",
      "execution_count": null,
      "id": "272ffa74",
      "metadata": {
        "id": "272ffa74"
      },
      "outputs": [],
      "source": [
        "# BASED ON DISTANCE:\n",
        "from sklearn.feature_extraction.text import CountVectorizer\n",
        "cvect = CountVectorizer(max_features = 5000, stop_words = 'english')\n",
        "vectors = cvect.fit_transform(data1['Distance from College:']).toarray()"
      ]
    },
    {
      "cell_type": "code",
      "execution_count": null,
      "id": "a04863cf",
      "metadata": {
        "id": "a04863cf"
      },
      "outputs": [],
      "source": [
        "from sklearn.metrics.pairwise import cosine_similarity\n",
        "similarity = cosine_similarity(vectors)"
      ]
    },
    {
      "cell_type": "code",
      "execution_count": null,
      "id": "b93604c7",
      "metadata": {
        "id": "b93604c7"
      },
      "outputs": [],
      "source": [
        "def recommend(hostel):\n",
        "\n",
        "    hostel_index = data1[data1['Name of the Hostel'] == hostel].index[0]\n",
        "    distances = similarity[hostel_index]\n",
        "    hostel_list = sorted(list(enumerate(distances)), reverse = True, key = lambda x:x[1])[1:6]\n",
        "    for i in hostel_list:\n",
        "        print(data1['Name of the Hostel'].iloc[i[0]])"
      ]
    },
    {
      "cell_type": "code",
      "execution_count": null,
      "id": "25604818",
      "metadata": {
        "id": "25604818",
        "outputId": "ea68acbe-f576-436e-edfb-bb36c8db246a"
      },
      "outputs": [
        {
          "name": "stdout",
          "output_type": "stream",
          "text": [
            "augustine nivas\n",
            "gayathri luxury pg\n",
            "stanza living\n",
            "sri sai pg for ladies\n",
            "ankalamma pg for ladies\n"
          ]
        }
      ],
      "source": [
        "recommend('augustine nivas')"
      ]
    },
    {
      "cell_type": "code",
      "execution_count": null,
      "id": "e9ef8de9",
      "metadata": {
        "id": "e9ef8de9"
      },
      "outputs": [],
      "source": [
        "# BASED ON COMMENTS BY THE USERS FOR FEMALES:\n",
        "\n",
        "data2 = (data['Comments/Remarks/Suggestions related to hostel/PG']).dropna()\n",
        "data2 = data[data['Gender'] == \"Female\"]"
      ]
    },
    {
      "cell_type": "code",
      "execution_count": null,
      "id": "39ede382",
      "metadata": {
        "id": "39ede382"
      },
      "outputs": [],
      "source": [
        "from sklearn.feature_extraction.text import CountVectorizer\n",
        "cvect = CountVectorizer(max_features = 5000, stop_words = 'english')\n",
        "vectors = cvect.fit_transform(data2).toarray()"
      ]
    },
    {
      "cell_type": "code",
      "execution_count": null,
      "id": "d57830ad",
      "metadata": {
        "id": "d57830ad"
      },
      "outputs": [],
      "source": [
        "from sklearn.metrics.pairwise import cosine_similarity\n",
        "similarity = cosine_similarity(vectors)"
      ]
    },
    {
      "cell_type": "code",
      "execution_count": null,
      "id": "81f91f41",
      "metadata": {
        "id": "81f91f41"
      },
      "outputs": [],
      "source": [
        "def recommend(hostel):\n",
        "\n",
        "    hostel_index = data1[data1['Name of the Hostel'] == hostel].index[0]\n",
        "    distances = similarity[hostel_index]\n",
        "    movies_list = sorted(list(enumerate(distances)), reverse = True, key = lambda x:x[1])[1:6]\n",
        "    for i in movies_list:\n",
        "        print(data2['Name of the Hostel'].iloc[i[0]])"
      ]
    },
    {
      "cell_type": "code",
      "execution_count": null,
      "id": "de38239a",
      "metadata": {
        "id": "de38239a",
        "outputId": "809128f9-a276-47ee-faf0-6f797dc2e629"
      },
      "outputs": [
        {
          "name": "stdout",
          "output_type": "stream",
          "text": [
            "Augustine Nivas\n",
            "Stanza living\n",
            "Gayathri Luxury pg \n",
            "Providence Convent \n",
            "Besania study house\n"
          ]
        }
      ],
      "source": [
        "recommend('augustine nivas')"
      ]
    }
  ],
  "metadata": {
    "kernelspec": {
      "display_name": "Python 3 (ipykernel)",
      "language": "python",
      "name": "python3"
    },
    "language_info": {
      "codemirror_mode": {
        "name": "ipython",
        "version": 3
      },
      "file_extension": ".py",
      "mimetype": "text/x-python",
      "name": "python",
      "nbconvert_exporter": "python",
      "pygments_lexer": "ipython3",
      "version": "3.9.12"
    },
    "colab": {
      "provenance": []
    }
  },
  "nbformat": 4,
  "nbformat_minor": 5
}